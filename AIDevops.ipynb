{
 "cells": [
  {
   "cell_type": "code",
   "execution_count": null,
   "metadata": {},
   "outputs": [],
   "source": [
    "!pip install fastapi pydantic uvicorn openai requests"
   ]
  },
  {
   "cell_type": "markdown",
   "metadata": {},
   "source": [
    "# Start testing against HTTP endpoint"
   ]
  },
  {
   "cell_type": "code",
   "execution_count": 7,
   "metadata": {},
   "outputs": [
    {
     "name": "stdout",
     "output_type": "stream",
     "text": [
      "Example 1 Response:\n",
      "{'response': {'content': \"Let's create a pipeline for a Python project build. Here is the plan:\\n\\n1. **Set up the pipeline structure**.\\n2. **Add stages for linting, testing, and building**.\\n3. **Use Docker as the runtime environment**.\\n4. **Run the necessary scripts for linting, testing, and building**.\\n\\nHere is the YAML configuration for the pipeline:\\n\\n```yaml\\npipeline:\\n  stages:\\n    - name: Lint\\n      steps:\\n        - run:\\n            container: python:3.9\\n            script:\\n              - pip install flake8\\n              - flake8 .\\n\\n    - name: Test\\n      steps:\\n        - run:\\n            container: python:3.9\\n            script:\\n              - pip install pytest\\n              - pytest\\n\\n    - name: Build\\n      steps:\\n        - run:\\n            container: python:3.9\\n            script:\\n              - pip install -r requirements.txt\\n              - python setup.py sdist bdist_wheel\\n```\\n\\nI will generate this configuration for you.\", 'role': 'assistant', 'function_call': None, 'tool_calls': [{'id': 'call_LIrfVExbk6brSvBETrVul7Hv', 'function': {'arguments': '{\"pipeline_config\":\"pipeline:\\\\n  stages:\\\\n    - name: Lint\\\\n      steps:\\\\n        - run:\\\\n            container: python:3.9\\\\n            script:\\\\n              - pip install flake8\\\\n              - flake8 .\\\\n\\\\n    - name: Test\\\\n      steps:\\\\n        - run:\\\\n            container: python:3.9\\\\n            script:\\\\n              - pip install pytest\\\\n              - pytest\\\\n\\\\n    - name: Build\\\\n      steps:\\\\n        - run:\\\\n            container: python:3.9\\\\n            script:\\\\n              - pip install -r requirements.txt\\\\n              - python setup.py sdist bdist_wheel\"}', 'name': 'generate_pipeline'}, 'type': 'function'}]}}\n",
      "Example 2 Response:\n",
      "{'response': {'content': 'To add a stage for deploying to Google Cloud Platform (GCP) using the user\\'s credentials, I\\'ll include a new stage called \"Deploy\" with appropriate steps to authenticate and deploy to GCP. For GCP, typically you would use the `gcloud` CLI.\\n\\nPlan:\\n1. Add a stage named `Deploy`.\\n2. Include steps to authenticate and deploy.\\n3. Use environment variables or secrets for credentials.\\n\\nHere\\'s the updated pipeline configuration:\\n\\n```yaml\\npipeline:\\n  stages:\\n    - name: Lint\\n      steps:\\n        - name: Run Flake8\\n          image: python:3.8\\n          commands:\\n            - pip install flake8\\n            - flake8 .\\n    - name: Test\\n      steps:\\n        - name: Run Tests\\n          image: python:3.8\\n          commands:\\n            - pip install -r requirements.txt\\n            - pytest\\n    - name: Deploy\\n      steps:\\n        - name: Authenticate to GCP\\n          image: google/cloud-sdk:latest\\n          script:\\n            - echo $GOOGLE_CREDENTIALS > /tmp/account.json\\n            - gcloud auth activate-service-account --key-file /tmp/account.json\\n            - gcloud config set project $GCP_PROJECT_ID\\n        - name: Deploy Application\\n          image: google/cloud-sdk:latest\\n          script:\\n            - gcloud app deploy\\n```\\n\\nEnsure the following environment variables are set in your CI/CD environment:\\n- `GOOGLE_CREDENTIALS`: The JSON key for your GCP service account.\\n- `GCP_PROJECT_ID`: Your GCP project ID.\\n\\nI will proceed to update the pipeline configuration.', 'role': 'assistant', 'function_call': None, 'tool_calls': [{'id': 'call_Z7K9iy6Bt96TUpEghJem59Ld', 'function': {'arguments': '{\"updated_pipeline_config\": \"pipeline:\\\\n  stages:\\\\n    - name: Lint\\\\n      steps:\\\\n        - name: Run Flake8\\\\n          image: python:3.8\\\\n          commands:\\\\n            - pip install flake8\\\\n            - flake8 .\\\\n    - name: Test\\\\n      steps:\\\\n        - name: Run Tests\\\\n          image: python:3.8\\\\n          commands:\\\\n            - pip install -r requirements.txt\\\\n            - pytest\\\\n    - name: Deploy\\\\n      steps:\\\\n        - name: Authenticate to GCP\\\\n          image: google/cloud-sdk:latest\\\\n          script:\\\\n            - echo $GOOGLE_CREDENTIALS > /tmp/account.json\\\\n            - gcloud auth activate-service-account --key-file /tmp/account.json\\\\n            - gcloud config set project $GCP_PROJECT_ID\\\\n        - name: Deploy Application\\\\n          image: google/cloud-sdk:latest\\\\n          script:\\\\n            - gcloud app deploy\"}', 'name': 'update_pipeline'}, 'type': 'function'}]}}\n",
      "Example 3 Response:\n",
      "{'response': {'content': 'The error suggests that the `environment` field should be a map (key-value pairs) rather than a sequence (list).\\n\\nHere is the corrected YAML configuration:\\n\\n```yaml\\n- name: Build\\n  steps:\\n    - name: Build Image\\n      image: docker:latest\\n      commands:\\n        - docker build -t my-app .\\n        - docker push my-app:latest\\n      environment:\\n        DOCKER_PASSWORD: ${{ secrets.DOCKER_PASSWORD }}\\n        DOCKER_USERNAME: ${{ secrets.DOCKER_USERNAME }}\\n```\\n\\nI will update the YAML configuration accordingly.', 'role': 'assistant', 'function_call': None, 'tool_calls': [{'id': 'call_R2GH2AZ8jXU2gJmbR8E40PEr', 'function': {'arguments': '{\"updated_pipeline_config\":\"- name: Build\\\\n  steps:\\\\n    - name: Build Image\\\\n      image: docker:latest\\\\n      commands:\\\\n        - docker build -t my-app .\\\\n        - docker push my-app:latest\\\\n      environment:\\\\n        DOCKER_PASSWORD: ${{ secrets.DOCKER_PASSWORD }}\\\\n        DOCKER_USERNAME: ${{ secrets.DOCKER_USERNAME }}\"}', 'name': 'update_pipeline'}, 'type': 'function'}]}}\n"
     ]
    }
   ],
   "source": [
    "import requests\n",
    "import json\n",
    "\n",
    "# Base URL for the FastAPI app\n",
    "base_url = \"http://localhost:8000\"\n",
    "\n",
    "# Example 1: Generate a CI/CD Pipeline Configuration\n",
    "def example_generate_pipeline():\n",
    "    url = f\"{base_url}/chat\"\n",
    "    payload = {\n",
    "        \"prompt\": \"Build python build pipeline\"\n",
    "    }\n",
    "    response = requests.post(url, json=payload)\n",
    "    if response.status_code == 200:\n",
    "        print(\"Example 1 Response:\")\n",
    "        print(response.json())\n",
    "    else:\n",
    "        print(\"Error:\", response.status_code, response.text)\n",
    "\n",
    "# Example 2: Update a CI/CD Pipeline Configuration\n",
    "def example_update_pipeline():\n",
    "    url = f\"{base_url}/chat\"\n",
    "    current_pipeline = \"\"\"\n",
    "    pipeline:\n",
    "      stages:\n",
    "        - name: Lint\n",
    "          steps:\n",
    "            - name: Run Flake8\n",
    "              image: python:3.8\n",
    "              commands:\n",
    "                - pip install flake8\n",
    "                - flake8 .\n",
    "        - name: Test\n",
    "          steps:\n",
    "            - name: Run Tests\n",
    "              image: python:3.8\n",
    "              commands:\n",
    "                - pip install -r requirements.txt\n",
    "                - pytest\n",
    "    \"\"\"\n",
    "    prompt = \"Add a stage for deploying to Google Cloud Platform (GCP) using the user's credentials. Update it for me.\"\n",
    "    payload = {\n",
    "        \"prompt\": prompt,\n",
    "        \"extra_context\": [\n",
    "            {\n",
    "                \"description\": \"Current Pipeline\",\n",
    "                \"content\": current_pipeline\n",
    "            }\n",
    "        ]\n",
    "    }\n",
    "    response = requests.post(url, json=payload)\n",
    "    if response.status_code == 200:\n",
    "        print(\"Example 2 Response:\")\n",
    "        print(response.json())\n",
    "    else:\n",
    "        print(\"Error:\", response.status_code, response.text)\n",
    "\n",
    "# Example 3: Analyze Failed Pipeline Logs and Suggest a Fix\n",
    "def example_fix_failed_pipeline():\n",
    "    url = f\"{base_url}/chat\"\n",
    "    logs = \"\"\"\n",
    "    Pipeline execution failed at stage 'Build'. Error parsing YAML configuration:\n",
    "    - name: Build\n",
    "      steps:\n",
    "        - name: Build Image\n",
    "          image: docker:latest\n",
    "          commands:\n",
    "            - docker build -t my-app .\n",
    "            - docker push my-app:latest\n",
    "          environment:\n",
    "          - DOCKER_PASSWORD=${{ secrets.DOCKER_PASSWORD }}\n",
    "          - DOCKER_USERNAME=${{ secrets.DOCKER_USERNAME }}\n",
    "    [ERROR] Invalid YAML format at line 6, column 7: 'environment' should be a map, but found a sequence instead.\n",
    "    \"\"\"\n",
    "    prompt = \"YAML configuration error: 'environment' should be a map, but found a sequence instead.\"\n",
    "    payload = {\n",
    "        \"prompt\": prompt,\n",
    "        \"extra_context\": [\n",
    "            {\n",
    "                \"description\": \"Pipeline Logs\",\n",
    "                \"content\": logs\n",
    "            }\n",
    "        ]\n",
    "    }\n",
    "    response = requests.post(url, json=payload)\n",
    "    if response.status_code == 200:\n",
    "        print(\"Example 3 Response:\")\n",
    "        print(response.json())\n",
    "    else:\n",
    "        print(\"Error:\", response.status_code, response.text)\n",
    "\n",
    "# Run examples\n",
    "if __name__ == \"__main__\":\n",
    "    example_generate_pipeline()\n",
    "    example_update_pipeline()\n",
    "    example_fix_failed_pipeline()\n"
   ]
  }
 ],
 "metadata": {
  "kernelspec": {
   "display_name": "Python 3",
   "language": "python",
   "name": "python3"
  },
  "language_info": {
   "codemirror_mode": {
    "name": "ipython",
    "version": 3
   },
   "file_extension": ".py",
   "mimetype": "text/x-python",
   "name": "python",
   "nbconvert_exporter": "python",
   "pygments_lexer": "ipython3",
   "version": "3.12.4"
  }
 },
 "nbformat": 4,
 "nbformat_minor": 2
}
